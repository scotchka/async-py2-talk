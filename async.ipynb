{
 "cells": [
  {
   "cell_type": "code",
   "execution_count": null,
   "metadata": {
    "collapsed": true
   },
   "outputs": [],
   "source": [
    "from datetime import datetime, timedelta"
   ]
  },
  {
   "cell_type": "markdown",
   "metadata": {},
   "source": [
    "# synchronous"
   ]
  },
  {
   "cell_type": "code",
   "execution_count": null,
   "metadata": {
    "collapsed": true
   },
   "outputs": [],
   "source": [
    "def sleep(delay):\n",
    "    expire_at = datetime.now() + timedelta(seconds=delay)\n",
    "    while datetime.now() < expire_at:\n",
    "        pass\n",
    "    \n",
    "def set_timeout(delay, callback):\n",
    "    sleep(delay)\n",
    "    callback()"
   ]
  },
  {
   "cell_type": "code",
   "execution_count": null,
   "metadata": {},
   "outputs": [],
   "source": [
    "def alert(msg):\n",
    "    print(msg)"
   ]
  },
  {
   "cell_type": "code",
   "execution_count": null,
   "metadata": {},
   "outputs": [],
   "source": [
    "set_timeout(1, lambda: alert('hello'))\n",
    "set_timeout(0.5, lambda: alert('goodbye'))"
   ]
  },
  {
   "cell_type": "markdown",
   "metadata": {},
   "source": [
    "# asynchronous, generator version"
   ]
  },
  {
   "cell_type": "code",
   "execution_count": null,
   "metadata": {},
   "outputs": [],
   "source": [
    "def sleep(delay):\n",
    "    expire_at = datetime.now() + timedelta(seconds=delay)\n",
    "    \n",
    "    while datetime.now() < expire_at:\n",
    "        yield\n",
    "        \n",
    "def set_timeout(delay, callback):\n",
    "    yield from sleep(delay)\n",
    "    callback()"
   ]
  },
  {
   "cell_type": "code",
   "execution_count": null,
   "metadata": {},
   "outputs": [],
   "source": [
    "gen = set_timeout(1, lambda: alert('hi'))\n",
    "gen"
   ]
  },
  {
   "cell_type": "code",
   "execution_count": null,
   "metadata": {},
   "outputs": [],
   "source": [
    "gen.send(None)"
   ]
  },
  {
   "cell_type": "code",
   "execution_count": null,
   "metadata": {
    "collapsed": true
   },
   "outputs": [],
   "source": [
    "def run(tasks):\n",
    "    \n",
    "    while tasks:\n",
    "        task = tasks.pop(0)\n",
    "        \n",
    "        try:\n",
    "            task.send(None)\n",
    "        except StopIteration:\n",
    "            pass\n",
    "        else:\n",
    "            tasks.append(task)"
   ]
  },
  {
   "cell_type": "code",
   "execution_count": null,
   "metadata": {},
   "outputs": [],
   "source": [
    "run([\n",
    "    set_timeout(1, lambda: alert('hello')),\n",
    "    set_timeout(0.5, lambda: alert('goodbye'))\n",
    "    ])"
   ]
  },
  {
   "cell_type": "markdown",
   "metadata": {},
   "source": [
    "# asynchronous, async/await version"
   ]
  },
  {
   "cell_type": "code",
   "execution_count": null,
   "metadata": {
    "collapsed": true
   },
   "outputs": [],
   "source": [
    "import asyncio\n",
    "import types"
   ]
  },
  {
   "cell_type": "code",
   "execution_count": null,
   "metadata": {},
   "outputs": [],
   "source": [
    "@types.coroutine\n",
    "def sleep(delay):\n",
    "    expire_at = datetime.now() + timedelta(seconds=delay)\n",
    "    while datetime.now() < expire_at:\n",
    "        yield\n",
    "        \n",
    "\n",
    "async def set_timeout(delay, callback):\n",
    "    await sleep(delay)\n",
    "    callback()"
   ]
  },
  {
   "cell_type": "code",
   "execution_count": null,
   "metadata": {},
   "outputs": [],
   "source": [
    "run([\n",
    "    set_timeout(1, lambda: alert('hello')),\n",
    "    set_timeout(0.9, lambda: alert('goodbye'))\n",
    "    ])"
   ]
  },
  {
   "cell_type": "code",
   "execution_count": null,
   "metadata": {},
   "outputs": [],
   "source": [
    "loop = asyncio.get_event_loop()"
   ]
  },
  {
   "cell_type": "code",
   "execution_count": null,
   "metadata": {},
   "outputs": [],
   "source": [
    "loop.create_task(set_timeout(1, lambda: alert('hello')))\n",
    "loop.create_task(set_timeout(0.9, lambda: alert('goodbye')))"
   ]
  },
  {
   "cell_type": "code",
   "execution_count": null,
   "metadata": {},
   "outputs": [],
   "source": [
    "loop.run_forever()"
   ]
  },
  {
   "cell_type": "markdown",
   "metadata": {},
   "source": [
    "# async/await syntax and asyncio module are decoupled\n",
    "\n",
    "You can use:\n",
    "\n",
    "- regular generators + your own event loop\n",
    "- regular generators + asyncio's event loop\n",
    "- async/await coroutines + your own event loop\n",
    "- async/await coroutines + asyncio's event loop\n"
   ]
  },
  {
   "cell_type": "code",
   "execution_count": null,
   "metadata": {
    "collapsed": true
   },
   "outputs": [],
   "source": []
  }
 ],
 "metadata": {
  "kernelspec": {
   "display_name": "Python 3",
   "language": "python",
   "name": "python3"
  },
  "language_info": {
   "codemirror_mode": {
    "name": "ipython",
    "version": 3
   },
   "file_extension": ".py",
   "mimetype": "text/x-python",
   "name": "python",
   "nbconvert_exporter": "python",
   "pygments_lexer": "ipython3",
   "version": "3.6.2"
  }
 },
 "nbformat": 4,
 "nbformat_minor": 2
}
