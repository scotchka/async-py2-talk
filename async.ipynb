{
 "cells": [
  {
   "cell_type": "markdown",
   "metadata": {
    "slideshow": {
     "slide_type": "slide"
    }
   },
   "source": [
    "# Async for the Python 2 Programmer\n",
    "<center><img width=\"700px\" src=\"word_cloud.png\"></center>\n",
    "## Henry Chen (Hackbright Academy)"
   ]
  },
  {
   "cell_type": "markdown",
   "metadata": {
    "slideshow": {
     "slide_type": "subslide"
    }
   },
   "source": [
    "<center><img src=\"caveman_lawyer.jpg\"></center>"
   ]
  },
  {
   "cell_type": "markdown",
   "metadata": {
    "slideshow": {
     "slide_type": "subslide"
    }
   },
   "source": [
    "# Goals\n",
    "- implement with familiar **Python 2** syntax\n",
    "- connect to new **Python 3** syntax\n",
    "- **NOT** a tutorial on writing async code\n",
    "- prepare you for **further study**\n",
    "- develop **mental model** of async"
   ]
  },
  {
   "cell_type": "markdown",
   "metadata": {
    "slideshow": {
     "slide_type": "subslide"
    }
   },
   "source": [
    "# Concurrency\n",
    "\n",
    "- programs often wait around\n",
    "- http requests, file read/write, etc\n",
    "- concurrency: program does stuff while waiting\n",
    "- more efficient use of CPU"
   ]
  },
  {
   "cell_type": "markdown",
   "metadata": {
    "slideshow": {
     "slide_type": "subslide"
    }
   },
   "source": [
    "# Async\n",
    "- single thread 😊\n",
    "- you control order of execution\n",
    "- how programs normally work"
   ]
  },
  {
   "cell_type": "markdown",
   "metadata": {
    "slideshow": {
     "slide_type": "slide"
    }
   },
   "source": [
    "# You probably already know async\n",
    "\n",
    "JavaScript:\n",
    "\n",
    "<img src=\"setTimeout.png\">\n",
    "\n",
    "- setTimeout adds a function to a task list\n",
    "- event loop continuously \"checks\" each task in turn\n",
    "- when delay expires, executes callback\n",
    "\n",
    "Let's implement this in Python..."
   ]
  },
  {
   "cell_type": "code",
   "execution_count": null,
   "metadata": {
    "slideshow": {
     "slide_type": "subslide"
    }
   },
   "outputs": [],
   "source": [
    "from datetime import datetime, timedelta\n",
    "\n",
    "def sleep(delay):\n",
    "    expire_at = datetime.now() + timedelta(seconds=delay)\n",
    "    while datetime.now() < expire_at:\n",
    "        pass\n",
    "    \n",
    "def set_timeout(delay, callback):\n",
    "    sleep(delay) # wait for a duration\n",
    "    callback() # execute callback function"
   ]
  },
  {
   "cell_type": "code",
   "execution_count": null,
   "metadata": {
    "slideshow": {
     "slide_type": "fragment"
    }
   },
   "outputs": [],
   "source": [
    "set_timeout(1.0, lambda: print('goodbye')) # lambda needed to defer execution\n",
    "set_timeout(0.5, lambda: print('hello'))"
   ]
  },
  {
   "cell_type": "markdown",
   "metadata": {
    "slideshow": {
     "slide_type": "fragment"
    }
   },
   "source": [
    "🤮🤮🤮🤮🤮🤮🤮🤮🤮"
   ]
  },
  {
   "cell_type": "markdown",
   "metadata": {
    "slideshow": {
     "slide_type": "slide"
    }
   },
   "source": [
    "# idea: generators\n",
    "- generator: code that can pause and resume\n",
    "- loop thru several generators\n",
    "- execute each a little at a time\n"
   ]
  },
  {
   "cell_type": "code",
   "execution_count": null,
   "metadata": {
    "slideshow": {
     "slide_type": "subslide"
    }
   },
   "outputs": [],
   "source": [
    "def f():\n",
    "    yield 42\n",
    "    yield False\n",
    "    yield 'hello'"
   ]
  },
  {
   "cell_type": "code",
   "execution_count": null,
   "metadata": {
    "slideshow": {
     "slide_type": "fragment"
    }
   },
   "outputs": [],
   "source": [
    "gen = f()\n",
    "gen"
   ]
  },
  {
   "cell_type": "code",
   "execution_count": null,
   "metadata": {
    "slideshow": {
     "slide_type": "fragment"
    }
   },
   "outputs": [],
   "source": [
    "next(gen)"
   ]
  },
  {
   "cell_type": "code",
   "execution_count": null,
   "metadata": {
    "slideshow": {
     "slide_type": "fragment"
    }
   },
   "outputs": [],
   "source": [
    "gen = f()\n",
    "for item in gen:\n",
    "    print(item)"
   ]
  },
  {
   "cell_type": "code",
   "execution_count": null,
   "metadata": {
    "slideshow": {
     "slide_type": "subslide"
    }
   },
   "outputs": [],
   "source": [
    "# replace normal functions with generator functions\n",
    "\n",
    "def sleep(delay):\n",
    "    expire_at = datetime.now() + timedelta(seconds=delay)\n",
    "    \n",
    "    while datetime.now() < expire_at:\n",
    "        yield None\n",
    "        \n",
    "def set_timeout(delay, callback):\n",
    "    for item in sleep(delay):\n",
    "        yield item\n",
    "    callback()"
   ]
  },
  {
   "cell_type": "code",
   "execution_count": null,
   "metadata": {
    "slideshow": {
     "slide_type": "fragment"
    }
   },
   "outputs": [],
   "source": [
    "gen = set_timeout(2, lambda: print('hi'))\n",
    "gen"
   ]
  },
  {
   "cell_type": "code",
   "execution_count": null,
   "metadata": {
    "slideshow": {
     "slide_type": "fragment"
    }
   },
   "outputs": [],
   "source": [
    "next(gen) # returns None until delay expires"
   ]
  },
  {
   "cell_type": "markdown",
   "metadata": {
    "slideshow": {
     "slide_type": "subslide"
    }
   },
   "source": [
    "Unlike JavaScript, Python does not come with an event loop, so let's make one."
   ]
  },
  {
   "cell_type": "code",
   "execution_count": null,
   "metadata": {
    "slideshow": {
     "slide_type": "fragment"
    }
   },
   "outputs": [],
   "source": [
    "def run(tasks):\n",
    "    \n",
    "    while tasks:\n",
    "        task = tasks.pop(0)\n",
    "        \n",
    "        try:\n",
    "            task.send(None) # almost same as next(task)\n",
    "        except StopIteration:\n",
    "            pass\n",
    "        else:\n",
    "            tasks.append(task)"
   ]
  },
  {
   "cell_type": "code",
   "execution_count": null,
   "metadata": {
    "slideshow": {
     "slide_type": "fragment"
    }
   },
   "outputs": [],
   "source": [
    "run([\n",
    "    set_timeout(1, lambda: print('goodbye')),\n",
    "    set_timeout(0.5, lambda: print('hello'))\n",
    "    ])"
   ]
  },
  {
   "cell_type": "markdown",
   "metadata": {
    "slideshow": {
     "slide_type": "fragment"
    }
   },
   "source": [
    "😎😎😎😎😎😎😎😎😎😎😎😎"
   ]
  },
  {
   "cell_type": "markdown",
   "metadata": {
    "slideshow": {
     "slide_type": "slide"
    }
   },
   "source": [
    "# Python 3\n",
    "\n",
    "- Every line of code so far can be run under **Python 2** (try it!)\n",
    "- Python 3 introduces new **syntax** and standard library features specifically for async IO\n",
    "- But under it all is the good old **generator**"
   ]
  },
  {
   "cell_type": "code",
   "execution_count": null,
   "metadata": {
    "slideshow": {
     "slide_type": "subslide"
    }
   },
   "outputs": [],
   "source": [
    "import asyncio # Python 3 module with non-blocking IO and other utilities"
   ]
  },
  {
   "cell_type": "code",
   "execution_count": null,
   "metadata": {
    "slideshow": {
     "slide_type": "fragment"
    }
   },
   "outputs": [],
   "source": [
    "@asyncio.coroutine # tells Python this is a coroutine, not a normal generator function\n",
    "def sleep(delay):\n",
    "    expire_at = datetime.now() + timedelta(seconds=delay)\n",
    "    while datetime.now() < expire_at:\n",
    "        yield\n",
    "        \n",
    "\n",
    "async def set_timeout(delay, callback): # Python 3 syntax\n",
    "    await sleep(delay) # exhaust the coroutine\n",
    "    callback()"
   ]
  },
  {
   "cell_type": "code",
   "execution_count": null,
   "metadata": {
    "slideshow": {
     "slide_type": "fragment"
    }
   },
   "outputs": [],
   "source": [
    "# our event loop still works!\n",
    "run([\n",
    "    set_timeout(1, lambda: print('goodbye')),\n",
    "    set_timeout(0.5, lambda: print('hello'))\n",
    "    ])"
   ]
  },
  {
   "cell_type": "code",
   "execution_count": null,
   "metadata": {
    "slideshow": {
     "slide_type": "subslide"
    }
   },
   "outputs": [],
   "source": [
    "# or, use the official event loop\n",
    "loop = asyncio.get_event_loop()"
   ]
  },
  {
   "cell_type": "code",
   "execution_count": null,
   "metadata": {
    "slideshow": {
     "slide_type": "fragment"
    }
   },
   "outputs": [],
   "source": [
    "tasks = asyncio.gather(\n",
    "    set_timeout(1, lambda: print('goodbye')),\n",
    "    set_timeout(0.5, lambda: print('hello'))\n",
    ")"
   ]
  },
  {
   "cell_type": "code",
   "execution_count": null,
   "metadata": {
    "slideshow": {
     "slide_type": "fragment"
    }
   },
   "outputs": [],
   "source": [
    "loop.run_until_complete(tasks)"
   ]
  },
  {
   "cell_type": "markdown",
   "metadata": {
    "slideshow": {
     "slide_type": "slide"
    }
   },
   "source": [
    "# Summary\n",
    "\n",
    "- async/await and asyncio are decoupled\n",
    "    - you can use one or both or neither\n",
    "- ideas and machinery already present in Python 2\n",
    "    - but Python 3 is nicer\n",
    "- single thread is simpler than multiple threads\n",
    "    - but your entire code must be non-blocking"
   ]
  },
  {
   "cell_type": "markdown",
   "metadata": {
    "collapsed": true,
    "slideshow": {
     "slide_type": "slide"
    }
   },
   "source": [
    "# Further Study\n",
    "\n",
    "- DO NOT read the docs\n",
    "- watch David Beazley's async/await talks on YouTube\n",
    "- bonus tip: watch Beazley talk about basically anything\n",
    "- read [How the heck does async/await work in Python 3.5?](https://snarky.ca/how-the-heck-does-async-await-work-in-python-3-5/) by Brett Cannon"
   ]
  },
  {
   "cell_type": "markdown",
   "metadata": {
    "slideshow": {
     "slide_type": "fragment"
    }
   },
   "source": [
    "Thanks for your attention!\n",
    "\n",
    "henry@hackbrightacademy.com\n",
    "\n",
    "github.com/scotchka/async-py2-talk"
   ]
  },
  {
   "cell_type": "code",
   "execution_count": null,
   "metadata": {},
   "outputs": [],
   "source": []
  }
 ],
 "metadata": {
  "celltoolbar": "Slideshow",
  "kernelspec": {
   "display_name": "Python 3",
   "language": "python",
   "name": "python3"
  },
  "language_info": {
   "codemirror_mode": {
    "name": "ipython",
    "version": 3
   },
   "file_extension": ".py",
   "mimetype": "text/x-python",
   "name": "python",
   "nbconvert_exporter": "python",
   "pygments_lexer": "ipython3",
   "version": "3.6.2"
  }
 },
 "nbformat": 4,
 "nbformat_minor": 2
}
